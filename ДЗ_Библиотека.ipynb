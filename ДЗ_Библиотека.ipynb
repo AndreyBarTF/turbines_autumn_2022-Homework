{
  "nbformat": 4,
  "nbformat_minor": 0,
  "metadata": {
    "colab": {
      "provenance": [],
      "authorship_tag": "ABX9TyMJU7jCMqhxWQHWh9cGvCaX",
      "include_colab_link": true
    },
    "kernelspec": {
      "name": "python3",
      "display_name": "Python 3"
    },
    "language_info": {
      "name": "python"
    }
  },
  "cells": [
    {
      "cell_type": "markdown",
      "metadata": {
        "id": "view-in-github",
        "colab_type": "text"
      },
      "source": [
        "<a href=\"https://colab.research.google.com/github/AndreyBarTF/turbines_autumn_2022-Homework/blob/GAS-%D0%94%D0%97.1/%D0%94%D0%97_%D0%91%D0%B8%D0%B1%D0%BB%D0%B8%D0%BE%D1%82%D0%B5%D0%BA%D0%B0.ipynb\" target=\"_parent\"><img src=\"https://colab.research.google.com/assets/colab-badge.svg\" alt=\"Open In Colab\"/></a>"
      ]
    },
    {
      "cell_type": "markdown",
      "source": [
        "*   ФИО Барбашин Андрей Алексеевич\n",
        "*   Группа ТФэ-01-20\n",
        "*   Тлеграмм @QwertyAlexx"
      ],
      "metadata": {
        "id": "wFv8E2UkczWi"
      }
    },
    {
      "cell_type": "markdown",
      "source": [
        "\n",
        "Написать модуль кода в .py файле для дайльнейшего переиспользования в других домашних работах Модуль должен как минимум:\n",
        "\n",
        "1. Считать объемы продуктов сгорания\n",
        "2. Этальпию воздуха и продуктов сгорания\n",
        "3. PV=RT\n",
        "4. Процессов расширения (Опционально, все равно придется потом расширять)"
      ],
      "metadata": {
        "id": "jAsJjwtfqoG2"
      }
    },
    {
      "cell_type": "code",
      "execution_count": 25,
      "metadata": {
        "id": "_o1kn4UdqnPZ",
        "outputId": "6f160169-3c45-420e-a9a5-37a993864167",
        "colab": {
          "base_uri": "https://localhost:8080/"
        }
      },
      "outputs": [
        {
          "name": "stdout",
          "output_type": "stream",
          "text": [
            "Ввод давления: 125\n",
            "Ввод объем: 2\n",
            "Ввод температура: \n"
          ]
        },
        {
          "output_type": "execute_result",
          "data": {
            "text/plain": [
              "(125, 2, 30.068098952141185)"
            ]
          },
          "metadata": {},
          "execution_count": 25
        }
      ],
      "source": [
        "import numpy as np\n",
        "import math\n",
        "\n",
        "R = 8.3144598\n",
        "GAS_INFO = {\"Уренгойское\": {\"CH\": [98.4, 0.1, 0, 0, 0], 'N2': 1.2, 'CO2':0.3},\n",
        "     \"Ямбургское\": {\"CH\": [98.6, 0.1, 0, 0, 0], 'N2': 1.2, 'CO2':0.1},\n",
        "     \"Заполярное\": {\"CH\": [99.3, 0.1, 0, 0, 0], 'N2': 0.4, 'CO2':0.2},\n",
        "     \"Медвежье\": {\"CH\": [97.3, 1, 0.1, 0.1, 0.1], 'N2': 0.5, 'CO2':0.5},\n",
        "     \"Оренбургское\": {\"CH\": [83.77, 4.6, 1.64, 0.81, 1.88], 'N2': 4.34, 'CO2':0.87},\n",
        "     \"Вуктыльское\": {\"CH\": [75.1, 8.9, 3.6, 1.5, 6.4], 'N2': 4.4, 'CO2':0.1},\n",
        "     \"Шебелинское\": {\"CH\": [92.07, 3.26, 0.59, 0.18, 0.6], 'N2': 1.3, 'CO2':2},\n",
        "     \"Газлинское\": {\"CH\": [96.9, 1.74, 0.04, 0.01, 0.01], 'N2': 1.15, 'CO2':0.15},\n",
        "     \"Астраханское\": {\"CH\": [90.48, 2.07, 0.99, 1.75, 0.61], 'N2': 3.45, 'CO2':0.65}\n",
        "    }\n",
        "\n",
        "def check (CH, N2, CO2):\n",
        "  summ = sum(CH) + N2 + CO2\n",
        "  if summ != 100:\n",
        "    raise ValueError('Проверь сумму компонентов!!!   \\0/ ')\n",
        "\n",
        "def Heat_calculation (CH):\n",
        "  Qnp = 358.2 * CH[0] + 637.46 * CH[1] + 860.05 * CH[2] + 1185.8 * CH[3]\n",
        "  return Qnp\n",
        "\n",
        "def air_volume_calculation (CH):\n",
        "  sum = 0\n",
        "  m = 1 \n",
        "  n = 4\n",
        "  for value in CH:\n",
        "    sum += (m + (n/4)) * value\n",
        "    m += 1\n",
        "    n += 2\n",
        "    V0 = 0.0476 * sum\n",
        "  return V0\n",
        "\n",
        "def nitrogen_volume_calculation (V0, N2):\n",
        "  V0N2 = 0.79 * V0 + 0.01 * N2\n",
        "  return V0N2\n",
        "\n",
        "def calculation_of_the_volume_of_triatomic_gases (CH, CO2):\n",
        "  sum = 0\n",
        "  m = 1 \n",
        "  for value in CH:\n",
        "\n",
        "    sum += m * value\n",
        "    m += 1\n",
        "    V0RO2 = 0.01 * (CO2 + sum) \n",
        "  return V0RO2\n",
        "\n",
        "def water_volume_calculation (CH, V0):\n",
        "  sum = 0\n",
        "  n = 4\n",
        "  for value in CH:\n",
        "    sum += (n/2) * value\n",
        "    n += 2\n",
        "    V0HO2 = 0.01 * (sum + 1.61 * V0) \n",
        "  return V0HO2\n",
        "\n",
        "def actual_water_volume_calculation (V0HO2, alfa, V0):\n",
        "  VHO2 = V0HO2 + 0.0161 * (alfa - 1) * V0\n",
        "  return VHO2\n",
        "\n",
        "def calculation_of_the_volume_of_combustion_products (V0RO2, V0N2, VHO2, V0, alfa):\n",
        "  Vg = V0RO2 + V0N2 + VHO2 + (alfa - 1) * V0\n",
        "  return Vg\n",
        "\n",
        "def heat_capacity_calculation_co2 (Tg):\n",
        "  Cco2 = 4.1868 * ((4.5784 * 1e-11 * (Tg ** 3)) - (1.51719 * 1e-7 * (Tg ** 2)) + (2.50113 * 1e-4 * Tg) + 0.382325)\n",
        "  return Cco2\n",
        "\n",
        "def heat_capacity_calculation_N2 (Tg):\n",
        "  CN2 = 4.1868 * ((-2.24553 * 1e-11 * (Tg ** 3)) + (4.85082 * 1e-8 * (Tg ** 2)) - (2.90598 * 1e-6 * Tg) + 0.309241)\n",
        "  return CN2\n",
        "\n",
        "def heat_capacity_calculation_h2o (Tg):\n",
        "  Ch2o = 4.1868 * ((-2.10956 * 1e-11 * (Tg ** 3)) + (4.9732 * 1e-8 * (Tg ** 2)) + (2.60629 * 1e-5 * Tg) + 0.356691)\n",
        "  return Ch2o\n",
        "\n",
        "def heat_capacity_calculation_vozd (Tg):\n",
        "  Cvozd = 4.1868 * ((-2.1717 * 1e-11 * (Tg ** 3)) + (4.19344 * 1e-8 * (Tg ** 2)) + (8.00891 * 1e-6 * Tg) + 0.315027)\n",
        "  return Cvozd\n",
        "\n",
        "def calculation_of_the_enthalpy_of_combustion_products (V0RO2, Cco2, V0N2, CN2, VHO2, Ch2o, Tg):\n",
        "  hg0 = Tg * (V0RO2 * Cco2 + V0N2 * CN2 + VHO2 * Ch2o)\n",
        "  return hg0\n",
        "\n",
        "def air_enthalpy_calculation (V0, Cvozd, Tg):\n",
        "  hvozd0 = Tg * (V0 * Cvozd)\n",
        "  return hvozd0\n",
        "\n",
        "def enthalpy_calculation (hg0, alfa, hvozd0):\n",
        "  Hg0 = hg0 + (alfa - 1) * hvozd0\n",
        "  return Hg0\n",
        "\n",
        "def all (alfa, name, Tg):\n",
        "  CH = GAS_INFO[name]['CH']\n",
        "  N2 = GAS_INFO[name]['N2']\n",
        "  CO2 = GAS_INFO[name]['CO2']\n",
        "  check(CH, N2, CO2)\n",
        "  Qnp = Heat_calculation(CH) \n",
        "  V0 = air_volume_calculation(CH)\n",
        "  V0N2 = nitrogen_volume_calculation(V0, N2)\n",
        "  V0RO2 = calculation_of_the_volume_of_triatomic_gases(CH, CO2)\n",
        "  V0HO2 = water_volume_calculation(CH, V0)\n",
        "  VHO2 = actual_water_volume_calculation(V0HO2, alfa, V0)\n",
        "  Vg = calculation_of_the_volume_of_combustion_products(V0RO2, V0N2, VHO2, V0, alfa)\n",
        "\n",
        "  Cco2 = heat_capacity_calculation_co2(Tg)\n",
        "  CN2 = heat_capacity_calculation_N2(Tg)\n",
        "  Ch2o = heat_capacity_calculation_h2o(Tg)\n",
        "  Cvozd = heat_capacity_calculation_vozd(Tg)\n",
        "\n",
        "  hg0 = calculation_of_the_enthalpy_of_combustion_products(V0RO2, Cco2, V0N2, CN2, VHO2, Ch2o, Tg)\n",
        "  hvozd0 = air_enthalpy_calculation(V0, Cvozd, Tg)\n",
        "  Hg0 = enthalpy_calculation(hg0, alfa, hvozd0)\n",
        "\n",
        "  return (Qnp, Vg, Hg0)\n",
        "  \n",
        "def PV_RT (P=None, V=None, Tg=None):\n",
        "  P = input('Ввод давления: ')\n",
        "  V = input('Ввод объем: ')\n",
        "  Tg = input('Ввод температура: ')\n",
        "  if (P):\n",
        "    if (Tg):\n",
        "      if (V):\n",
        "        print(\"ошибка\")\n",
        "      else:  \n",
        "        P = int(P)\n",
        "        Tg = int(Tg)\n",
        "        V = (R * Tg) / P\n",
        "    else:\n",
        "      P = int(P)\n",
        "      V = int(V)\n",
        "      Tg = (P * V) / R\n",
        "  else:\n",
        "    V = int(V)\n",
        "    Tg = int(Tg)\n",
        "    P = (R * Tg) / V\n",
        "  return P, V, Tg\n",
        "\n",
        "PV_RT()"
      ]
    },
    {
      "cell_type": "code",
      "source": [
        "print(all(3.313, \"Астраханское\", 450))"
      ],
      "metadata": {
        "colab": {
          "base_uri": "https://localhost:8080/"
        },
        "id": "zjSuUcBXVZxM",
        "outputId": "b55620bf-66ab-413a-f6c5-451c75612b9a"
      },
      "execution_count": 26,
      "outputs": [
        {
          "output_type": "stream",
          "name": "stdout",
          "text": [
            "(36656.0777, 34.614925009898805, 21605.032186000128)\n"
          ]
        }
      ]
    }
  ]
}