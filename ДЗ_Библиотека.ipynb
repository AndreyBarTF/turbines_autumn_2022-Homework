{
  "nbformat": 4,
  "nbformat_minor": 0,
  "metadata": {
    "colab": {
      "provenance": [],
      "authorship_tag": "ABX9TyPHkkmGs9rfLvR5u9a5XZUS",
      "include_colab_link": true
    },
    "kernelspec": {
      "name": "python3",
      "display_name": "Python 3"
    },
    "language_info": {
      "name": "python"
    }
  },
  "cells": [
    {
      "cell_type": "markdown",
      "metadata": {
        "id": "view-in-github",
        "colab_type": "text"
      },
      "source": [
        "<a href=\"https://colab.research.google.com/github/AndreyBarTF/turbines_autumn_2022-Homework/blob/GAS-%D0%94%D0%97.1/%D0%94%D0%97_%D0%91%D0%B8%D0%B1%D0%BB%D0%B8%D0%BE%D1%82%D0%B5%D0%BA%D0%B0.ipynb\" target=\"_parent\"><img src=\"https://colab.research.google.com/assets/colab-badge.svg\" alt=\"Open In Colab\"/></a>"
      ]
    },
    {
      "cell_type": "markdown",
      "source": [
        "*   ФИО Барбашин Андрей Алексеевич\n",
        "*   Группа ТФэ-01-20\n",
        "*   Тлеграмм @QwertyAlexx"
      ],
      "metadata": {
        "id": "wFv8E2UkczWi"
      }
    },
    {
      "cell_type": "markdown",
      "source": [
        "\n",
        "Написать модуль кода в .py файле для дайльнейшего переиспользования в других домашних работах Модуль должен как минимум:\n",
        "\n",
        "1. Считать объемы продуктов сгорания\n",
        "2. Этальпию воздуха и продуктов сгорания\n",
        "3. PV=RT\n",
        "4. Процессов расширения (Опционально, все равно придется потом расширять)"
      ],
      "metadata": {
        "id": "jAsJjwtfqoG2"
      }
    },
    {
      "cell_type": "code",
      "execution_count": 35,
      "metadata": {
        "id": "_o1kn4UdqnPZ"
      },
      "outputs": [],
      "source": [
        "import numpy as np\n",
        "import math\n",
        "\n",
        "math.pow(10, -11) == 1e-11\n",
        "math.pow(10, -8) == 1e-8\n",
        "math.pow(10, -7) == 1e-7\n",
        "math.pow(10, -6) == 1e-6\n",
        "math.pow(10, -5) == 1e-5\n",
        "math.pow(10, -4) == 1e-4\n",
        "R = 8.3144598\n",
        "gas_info = [\n",
        "    {\"name\":\"Уренгойское\", 'CH': [0.984, 0.001, 0, 0, 0], 'N2': 0.012, 'CO2':0.003},\n",
        "    {\"name\":\"Ямбургское\", 'CH': [0.986, 0.001, 0, 0, 0], 'N2': 0.012, 'CO2':0.001},\n",
        "    {\"name\":\"Заполярное\", 'CH': [0.993, 0.001, 0, 0, 0], 'N2': 0.004, 'CO2':0.002},\n",
        "    {\"name\":\"Медвежье\", 'CH': [0.973, 0.01, 0.001, 0.001, 0.001], 'N2': 0.005, 'CO2':0.005},\n",
        "    {\"name\":\"Оренбургское\", 'CH': [0.8377, 0.046, 0.0164, 0.0081, 0.0188], 'N2': 0.0434, 'CO2':0.0087},\n",
        "    {\"name\":\"Вуктыльское\", 'CH': [0.751, 0.089, 0.036, 0.015, 0.064], 'N2': 0.044, 'CO2':0.001},\n",
        "    {\"name\":\"Шебелинское\", 'CH': [0.9207, 0.0326, 0.0059, 0.0018, 0.006], 'N2': 0.013, 'CO2':0.02},\n",
        "    {\"name\":\"Газлинское\", 'CH': [0.969, 0.0174, 0.0004, 0.0001, 0.0001], 'N2': 0.0115, 'CO2':0.0015},\n",
        "    {\"name\":\"Астраханское\", 'CH': [0.9048, 0.0207, 0.0099, 0.0175, 0.0061], 'N2': 0.0345, 'CO2':0.0065},\n",
        "    {\"name\":\"Тест\", 'CH': [0.9048, 0, 0.0099, 0.0175, 0.0061], 'N2': 0.0345, 'CO2':0.0065}\n",
        "    ]\n",
        "\n",
        "def check (CH, N2, CO2):\n",
        "  summ = sum(CH) + N2 + CO2\n",
        "  if (summ == 1): \n",
        "    return True \n",
        "  else:\n",
        "    return False\n",
        "\n",
        "def Heat_calculation (CH):\n",
        "  Qnp = 358.2 * CH[0] + 637.46 * CH[1] + 860.05 * CH[2] + 1185.8 * CH[3]\n",
        "  return Qnp\n",
        "\n",
        "def air_volume_calculation (CH):\n",
        "  sum = 0\n",
        "  m = 1 \n",
        "  n = 4\n",
        "  for value in CH:\n",
        "   sum += (m + (n/4)) * value\n",
        "   m += 1\n",
        "   n += 2\n",
        "  V0 = 0.0476 * sum\n",
        "  return V0\n",
        "\n",
        "def nitrogen_volume_calculation (V0, N2):\n",
        "  V0N2 = 0.79 * V0 + 0.01 * N2\n",
        "  return V0N2\n",
        "\n",
        "def calculation_of_the_volume_of_triatomic_gases (CH, CO2):\n",
        "  sum = 0\n",
        "  m = 1 \n",
        "  for value in CH:\n",
        "   sum += m * value\n",
        "   m += 1\n",
        "  V0RO2 = 0.01 * (CO2 + sum) \n",
        "  return V0RO2\n",
        "\n",
        "def water_volume_calculation (CH, V0):\n",
        "  sum = 0\n",
        "  n = 4\n",
        "  for value in CH:\n",
        "   sum += (n/2) * value\n",
        "   n += 2\n",
        "  V0HO2 = 0.01 * (sum + 1.61 * V0) \n",
        "  return V0HO2\n",
        "\n",
        "def actual_water_volume_calculation (V0HO2, alfa, V0):\n",
        "  VHO2 = V0HO2 + 0.0161 * (alfa - 1) * V0\n",
        "  return VHO2\n",
        "\n",
        "def calculation_of_the_volume_of_combustion_products (V0RO2, V0N2, VHO2, V0, alfa):\n",
        "  Vg = V0RO2 + V0N2 + VHO2 + (alfa - 1) * V0\n",
        "  return Vg\n",
        "\n",
        "def heat_capacity_calculation_co2 (Tg):\n",
        "  Cco2 = 4.1868 * ((4.5784 * 1e-11 * (Tg ** 3)) - (1.51719 * 1e-7 * (Tg ** 2)) + (2.50113 * 1e-4 * Tg) + 0.382325)\n",
        "  return Cco2\n",
        "\n",
        "def heat_capacity_calculation_N2 (Tg):\n",
        "  CN2 = 4.1868 * ((-2.24553 * 1e-11 * (Tg ** 3)) + (4.85082 * 1e-8 * (Tg ** 2)) - (2.90598 * 1e-6 * Tg) + 0.309241)\n",
        "  return CN2\n",
        "\n",
        "def heat_capacity_calculation_h2o (Tg):\n",
        "  Ch2o = 4.1868 * ((-2.10956 * 1e-11 * (Tg ** 3)) + (4.9732 * 1e-8 * (Tg ** 2)) + (2.60629 * 1e-5 * Tg) + 0.356691)\n",
        "  return Ch2o\n",
        "\n",
        "def heat_capacity_calculation_vozd (Tg):\n",
        "  Cvozd = 4.1868 * ((-2.1717 * 1e-11 * (Tg ** 3)) + (4.19344 * 1e-8 * (Tg ** 2)) + (8.00891 * 1e-6 * Tg) + 0.315027)\n",
        "  return Cvozd\n",
        "\n",
        "def calculation_of_the_enthalpy_of_combustion_products (V0RO2, Cco2, V0N2, CN2, VHO2, Ch2o, Tg):\n",
        "  hg0 = Tg * (V0RO2 * Cco2 + V0N2 * CN2 + VHO2 * Ch2o)\n",
        "  return hg0\n",
        "\n",
        "def air_enthalpy_calculation (V0, Cvozd, Tg):\n",
        "  hvozd0 = Tg * (V0 * Cvozd)\n",
        "  return hvozd0\n",
        "\n",
        "def enthalpy_calculation (hg0, alfa, hvozd0):\n",
        "  Hg0 = hg0 + (alfa - 1) * hvozd0\n",
        "  return Hg0\n",
        "\n",
        "def all (alfa, name, Tg):\n",
        "  \n",
        "  i = 0\n",
        "  for j in range(len(gas_info)):\n",
        "    if (gas_info[j][\"name\"] == name):\n",
        "        i = j\n",
        "  CH = gas_info[i]['CH']\n",
        "  N2 = gas_info[i]['N2']\n",
        "  CO2 = gas_info[i]['CO2']\n",
        "  check1 = check(CH, N2, CO2)\n",
        "  Qnp = Heat_calculation(CH) \n",
        "\n",
        "  V0 = air_volume_calculation(CH)\n",
        "  V0N2 = nitrogen_volume_calculation(V0, N2)\n",
        "  V0RO2 = calculation_of_the_volume_of_triatomic_gases(CH, CO2)\n",
        "  V0HO2 = water_volume_calculation(CH, V0)\n",
        "  VHO2 = actual_water_volume_calculation(V0HO2, alfa, V0)\n",
        "  Vg = calculation_of_the_volume_of_combustion_products(V0RO2, V0N2, VHO2, V0, alfa)\n",
        "\n",
        "  Cco2 = heat_capacity_calculation_co2(Tg)\n",
        "  CN2 = heat_capacity_calculation_N2(Tg)\n",
        "  Ch2o = heat_capacity_calculation_h2o(Tg)\n",
        "  Cvozd = heat_capacity_calculation_vozd(Tg)\n",
        "\n",
        "  hg0 = calculation_of_the_enthalpy_of_combustion_products(V0RO2, Cco2, V0N2, CN2, VHO2, Ch2o, Tg)\n",
        "  hvozd0 = air_enthalpy_calculation(V0, Cvozd, Tg)\n",
        "  Hg0 = enthalpy_calculation(hg0, alfa, hvozd0)\n",
        "\n",
        "  return (Qnp, Vg, Hg0, check1)\n",
        "  \n",
        "def PV_RT ():\n",
        "  print('Неизвестное записать как 0')\n",
        "  P = int(input('Ввод давления: '))\n",
        "  V = int(input('Ввод объем: '))\n",
        "  Tg = int(input('Ввод температура: '))\n",
        "  if P>0 and V>0:\n",
        "    Tg = (P * V) / R\n",
        "  else:\n",
        "    if Tg>0 and P>0:\n",
        "        V = (R * Tg) / P\n",
        "    else:\n",
        "      if Tg>0 and V>0:\n",
        "        P = (R * Tg) / V\n",
        "  return P, V, Tg\n",
        "\n",
        "PV_RT()"
      ]
    },
    {
      "cell_type": "code",
      "source": [
        "print(all(3.313, 'Астраханское', 450))"
      ],
      "metadata": {
        "colab": {
          "base_uri": "https://localhost:8080/"
        },
        "id": "zjSuUcBXVZxM",
        "outputId": "fe4e6814-39ac-4216-b6f5-bc6e53c0c461"
      },
      "execution_count": 39,
      "outputs": [
        {
          "output_type": "stream",
          "name": "stdout",
          "text": [
            "(366.56077700000003, 0.34614925009898806, 216.0503218600013, True)\n"
          ]
        }
      ]
    }
  ]
}