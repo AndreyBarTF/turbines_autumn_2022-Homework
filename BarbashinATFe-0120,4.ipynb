{
  "nbformat": 4,
  "nbformat_minor": 0,
  "metadata": {
    "colab": {
      "provenance": [],
      "authorship_tag": "ABX9TyN2jJruhDf62Riw9k3jxQHK",
      "include_colab_link": true
    },
    "kernelspec": {
      "name": "python3",
      "display_name": "Python 3"
    },
    "language_info": {
      "name": "python"
    }
  },
  "cells": [
    {
      "cell_type": "markdown",
      "metadata": {
        "id": "view-in-github",
        "colab_type": "text"
      },
      "source": [
        "<a href=\"https://colab.research.google.com/github/AndreyBarTF/turbines_autumn_2022-Homework/blob/%D0%94%D0%97.4/BarbashinATFe-0120%2C4.ipynb\" target=\"_parent\"><img src=\"https://colab.research.google.com/assets/colab-badge.svg\" alt=\"Open In Colab\"/></a>"
      ]
    },
    {
      "cell_type": "markdown",
      "source": [
        "*   ФИО Барбашин Андрей Алексеевич\n",
        "*   Группа ТФэ-01-20\n",
        "*   Тлеграмм @QwertyAlexx"
      ],
      "metadata": {
        "id": "rgy-46XH20Gu"
      }
    },
    {
      "cell_type": "markdown",
      "source": [
        "![image.png](data:image/png;base64,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)"
      ],
      "metadata": {
        "id": "3Ab47s15x7g7"
      }
    },
    {
      "cell_type": "code",
      "source": [
        "!pip install iapws"
      ],
      "metadata": {
        "colab": {
          "base_uri": "https://localhost:8080/"
        },
        "id": "mU_Ah20r22e1",
        "outputId": "b67a3ee9-6ce2-4b70-b097-3c1bd5914174"
      },
      "execution_count": null,
      "outputs": [
        {
          "output_type": "stream",
          "name": "stdout",
          "text": [
            "Looking in indexes: https://pypi.org/simple, https://us-python.pkg.dev/colab-wheels/public/simple/\n",
            "Collecting iapws\n",
            "  Downloading iapws-1.5.3.tar.gz (111 kB)\n",
            "\u001b[K     |████████████████████████████████| 111 kB 9.4 MB/s \n",
            "\u001b[?25hRequirement already satisfied: scipy>=1.2 in /usr/local/lib/python3.7/dist-packages (from iapws) (1.7.3)\n",
            "Requirement already satisfied: numpy<1.23.0,>=1.16.5 in /usr/local/lib/python3.7/dist-packages (from scipy>=1.2->iapws) (1.21.6)\n",
            "Building wheels for collected packages: iapws\n",
            "  Building wheel for iapws (setup.py) ... \u001b[?25l\u001b[?25hdone\n",
            "  Created wheel for iapws: filename=iapws-1.5.3-py3-none-any.whl size=114280 sha256=905cbf00e6fad8a7579532ac260d51954e57686d049bc6c5a6ffc949770f23ff\n",
            "  Stored in directory: /root/.cache/pip/wheels/31/41/85/a38aabccfd7dea1498653150e52ad2b2d7e3a8199263b8e09a\n",
            "Successfully built iapws\n",
            "Installing collected packages: iapws\n",
            "Successfully installed iapws-1.5.3\n"
          ]
        }
      ]
    },
    {
      "cell_type": "code",
      "source": [
        "import iapws\n",
        "from iapws import IAPWS97 as gas\n",
        "import math\n",
        "import matplotlib.pyplot as plt\n",
        "import numpy as np\n",
        "\n",
        "MPa = 10 ** 6\n",
        "kPa = 10 ** 3\n",
        "unit = 1 / MPa\n",
        "to_kelvin = lambda x: x + 273.15 if x else None\n",
        "\n",
        "#Исходные данные\n",
        "p = 5 * MPa\n",
        "t = to_kelvin(489)\n",
        "H_0 = range(50,150)\n",
        "u = 160\n",
        "F1 = 0.025\n",
        "d_r = 1.09\n",
        "s_div_r = 0.2 \n",
        "degree__of_reaction = 0.1\n",
        "z_bandage = 2\n",
        "delta_r_bandage = 1.17 / 1000\n",
        "delta_a_bandage = 4 / 1000\n",
        "z_rotor = 5\n",
        "d_leak_rotor = 0.36\n",
        "delta_leak_rotor = 0.4 / 1000\n",
        "e = 0.8\n",
        "sin_alpha_1 = 0.225\n",
        "blade_width = 0.035\n",
        "blade_length = 0.035\n",
        "blade_efficiency = 0.78\n",
        "segments = 4\n",
        "m = 1\n",
        "k = 0.065\n",
        "mu_a = 0.5 # Для надбандажного уплотнения\n",
        "mu_r = 0.8 # По графику mu = f(зазор / толщина усика) определим при delta_r_bandage / 0.004 ~ 0.3. Возьмем квадратное уплотнение\n",
        "K_y = 1 # Примем, что диафрагменное уплотнение ступенчатое, т.е. Kу = 1\n",
        "mu_r_rotor = 0.8 # По графику mu = f(зазор / толщина усика) определим при delta_leak_rotor / 0.004 ~ 0.1. Возьмем квадратное уплотнение\n",
        "mu_nozzle = 0.97 # Примем коэффициент расхода сопловой решетки 0.97\n",
        "\n",
        "point = gas(P=p * unit, T=t)\n",
        "kinematic_viscosity = point.nu\n",
        "\n",
        "def get_Re_number(u, d_r, kinematic_viscosity):\n",
        "  Re_number = u * d_r * 0.5 / kinematic_viscosity\n",
        "  return Re_number\n",
        "\n",
        "def get_k_frictions(s_div_r, Re_number):\n",
        "  k_f = 2.5 * 10 ** (-2) * s_div_r ** 0.1 * Re_number **(-0.2)\n",
        "  return k_f\n",
        "\n",
        "def get_friction_loss_pu(k_f, d_r, u_div_dummy_speed, F1):\n",
        "  friction_loss_pu = k_f * d_r ** 2 * u_div_dummy_speed ** 3 / F1 \n",
        "  return friction_loss_pu\n",
        "\n",
        "def get_ventilation_loss_pu(m, k, sin_alpha_1, e, u_div_dummy_speed):\n",
        "  first = k / sin_alpha_1\n",
        "  second = (1 - e) / e\n",
        "  third = u_div_dummy_speed ** 3   \n",
        "  ventilation_loss_pu = first * second * third * m\n",
        "  return ventilation_loss_pu\n",
        "\n",
        "def get_segment_loss_pu(blade_width, blade_length, F1, u_div_dummy_speed, blade_efficiency, segments):\n",
        "  B = blade_width\n",
        "  l = blade_length\n",
        "  F = F1\n",
        "  first = 0.25 * B * l / F\n",
        "  second = u_div_dummy_speed * blade_efficiency * segments\n",
        "  segment_loss_pu = first * second\n",
        "  return segment_loss_pu\n",
        "\n",
        "def get_partial_losses_pu(segment_loss_pu, ventilation_loss_pu):\n",
        "  partial_losses_pu = segment_loss_pu + ventilation_loss_pu\n",
        "  return partial_losses_pu \n",
        "\n",
        "# Зададимся толщиной усика для уплотнения бандажа в 4 мм\n",
        "\n",
        "def compute_equal_gap(z_bandage, delta_r_bandage, mu_r_rotor, delta_a_bandage, mu_a):\n",
        "  z = z_bandage\n",
        "  delta_r = delta_r_bandage\n",
        "  delta_a = delta_a_bandage\n",
        "  first = 1 / (mu_a * delta_a) ** 2\n",
        "  second = z / (mu_r_rotor * delta_r) ** 2\n",
        "  equal_gap = (first + second) ** (-0.5)\n",
        "  return equal_gap\n",
        "\n",
        "def get_bandage_leak_loss_pu(delta_r_bandage, equal_gap, F1, degree__of_reaction, blade_length, blade_efficiency):\n",
        "  l = blade_length\n",
        "  dor = degree__of_reaction\n",
        "  delta_eq = equal_gap\n",
        "  d_shroud = delta_r_bandage / 0.001 # По определению задачи\n",
        "  d_avg = d_shroud - l\n",
        "  first = math.pi * d_shroud * delta_eq / F1\n",
        "  second = dor + 1.8 * (l / d_avg)\n",
        "  bandage_leak_loss_pu = first * (second) ** 0.5 * blade_efficiency\n",
        "  return bandage_leak_loss_pu\n",
        "\n",
        "def get_disk_leak_loss_pu(K_y, d_leak_rotor, delta_leak_rotor, mu_r, mu_nozzle, F1, z_rotor, blade_efficiency):\n",
        "  F_leak_rotor = math.pi * d_leak_rotor * delta_leak_rotor\n",
        "  upper = mu_r * K_y * F_leak_rotor * blade_efficiency\n",
        "  lower = mu_nozzle * F1 * z_rotor ** 0.5\n",
        "  disk_leak_loss_pu = upper / lower\n",
        "  return disk_leak_loss_pu\n",
        "\n",
        "def get_leak_losses_pu(disk_leak_loss_pu, bandage_leak_loss_pu):\n",
        "  leak_losses_pu = disk_leak_loss_pu + bandage_leak_loss_pu\n",
        "  return leak_losses_pu\n",
        "\n",
        "def compute_internal_efficiency(blade_efficiency, friction_loss_pu, partial_losses_pu, leak_losses_pu):\n",
        "  internal_efficiency = blade_efficiency - friction_loss_pu - partial_losses_pu - leak_losses_pu\n",
        "  return internal_efficiency\n",
        "\n",
        "internal_efficiency = []\n",
        "for H_0value in H_0:\n",
        "  H_0value=H_0value*1000\n",
        "  dummy_speed = (2 * H_0value) ** 0.5\n",
        "  u_div_dummy_speed = u / dummy_speed\n",
        "\n",
        "  Re_number = get_Re_number(u, d_r, kinematic_viscosity)\n",
        "  k_f = get_k_frictions(s_div_r, Re_number)\n",
        "  friction_loss_pu = get_friction_loss_pu(k_f, d_r, u_div_dummy_speed, F1)\n",
        "  ventilation_loss_pu = get_ventilation_loss_pu(m, k, sin_alpha_1, e, u_div_dummy_speed)\n",
        "  segment_loss_pu = get_segment_loss_pu(blade_width, blade_length, F1, u_div_dummy_speed, blade_efficiency, segments)\n",
        "  partial_losses_pu = get_partial_losses_pu(segment_loss_pu, ventilation_loss_pu)\n",
        "  equal_gap = compute_equal_gap(z_bandage, delta_r_bandage, mu_r_rotor, delta_a_bandage, mu_a)\n",
        "  disk_leak_loss_pu = get_disk_leak_loss_pu(K_y, d_leak_rotor, delta_leak_rotor, mu_r, mu_nozzle, F1, z_rotor, blade_efficiency)\n",
        "  bandage_leak_loss_pu = get_bandage_leak_loss_pu(delta_r_bandage, equal_gap, F1, degree__of_reaction, blade_length, blade_efficiency)\n",
        "  leak_losses_pu = get_leak_losses_pu(disk_leak_loss_pu, bandage_leak_loss_pu)\n",
        "  internal_efficiency.append(compute_internal_efficiency(blade_efficiency, friction_loss_pu, partial_losses_pu, leak_losses_pu))\n",
        "\n",
        "X = H_0\n",
        "Y = internal_efficiency\n",
        "plt.plot(X,Y)  \n",
        "plt.xlabel('H_0')\n",
        "plt.ylabel('$\\eta_{oi}$')\n",
        "plt.title(\"Зависимость $\\eta_{oi}$ от значения H_0\")\n",
        "plt.grid()"
      ],
      "metadata": {
        "colab": {
          "base_uri": "https://localhost:8080/",
          "height": 297
        },
        "id": "RSJJaHzYyN4N",
        "outputId": "3b12d338-d394-43d9-9b78-ab30be2e4ffe"
      },
      "execution_count": null,
      "outputs": [
        {
          "output_type": "display_data",
          "data": {
            "text/plain": [
              "<Figure size 432x288 with 1 Axes>"
            ],
            "image/png": "[encoded data removed]"
          },
          "metadata": {
            "needs_background": "light"
          }
        }
      ]
    }
  ]
}