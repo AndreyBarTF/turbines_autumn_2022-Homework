{
  "nbformat": 4,
  "nbformat_minor": 0,
  "metadata": {
    "colab": {
      "provenance": [],
      "authorship_tag": "ABX9TyNRH/XcFbT/zz7CNRoWyoSt",
      "include_colab_link": true
    },
    "kernelspec": {
      "name": "python3",
      "display_name": "Python 3"
    },
    "language_info": {
      "name": "python"
    }
  },
  "cells": [
    {
      "cell_type": "markdown",
      "metadata": {
        "id": "view-in-github",
        "colab_type": "text"
      },
      "source": [
        "<a href=\"https://colab.research.google.com/github/AndreyBarTF/turbines_autumn_2022-Homework/blob/%D0%94%D0%97.2/BarbachinTFe-01-20%D0%B7%D0%B0%D0%B4%D0%B0%D1%87%D0%B02_3.ipynb\" target=\"_parent\"><img src=\"https://colab.research.google.com/assets/colab-badge.svg\" alt=\"Open In Colab\"/></a>"
      ]
    },
    {
      "cell_type": "markdown",
      "source": [
        "*   ФИО Барбашин Андрей Алексеевич\n",
        "*   Группа ТФэ-01-20\n",
        "*   Тлеграмм @QwertyAlexx"
      ],
      "metadata": {
        "id": "rgy-46XH20Gu"
      }
    },
    {
      "cell_type": "markdown",
      "source": [
        "Задача 1 Построить график зависимости термического КПД от давления промежуточного перегрева водяного пара для условий примера: Р0=13 МПа; t0=540 °С; Рк=5 кПа. Параметры промперегрева: Рпп=1, 2, 3, 4, 5, 6 МПа; tпп=540 °С."
      ],
      "metadata": {
        "id": "HSI9ItI322iY"
      }
    },
    {
      "cell_type": "code",
      "execution_count": null,
      "metadata": {
        "id": "DSWwWgXA2yC0"
      },
      "outputs": [],
      "source": []
    },
    {
      "cell_type": "markdown",
      "source": [
        "Задача 2 Написать код для решения задачи оптимизации параметров промежуточного перегрева Pпп и tпп для свободных начальных параметров Р0, t0, Рк. Сделаем допущение, что начальная точка процесса расширения всегда находится в зоне перегретого пара. Решение должно выдавать параметры промежуточного перегрева и термический КПД при них."
      ],
      "metadata": {
        "id": "OtlP570z3LQd"
      }
    },
    {
      "cell_type": "code",
      "source": [],
      "metadata": {
        "id": "4a9938D73iNO"
      },
      "execution_count": null,
      "outputs": []
    },
    {
      "cell_type": "markdown",
      "source": [
        "Задача 3 При удельных расходах водяного пара d01 = 3,0 кг/(кВт·ч) и d02 = 3,6 кг/(кВт·ч) оценить удельные расходы теплоты на выработку электроэнергии, приняв разность энтальпий h0 – hпв = 2500 кДж/кг."
      ],
      "metadata": {
        "id": "qSg3d1YW3jOf"
      }
    },
    {
      "cell_type": "code",
      "source": [
        "d01 = 3\n",
        "d02 = 3.6\n",
        "q1 = 2500 #h0-hпв\n",
        "#удельные расходы теплоты\n",
        "q_1 = d01*q1 \n",
        "q_2 = d02 * q1\n",
        "print('Ответ на задачу 3 =',q_1, 'и', q_2)"
      ],
      "metadata": {
        "colab": {
          "base_uri": "https://localhost:8080/"
        },
        "id": "MbI5DqoM3w_s",
        "outputId": "84b96459-b4fd-4d92-e0ac-b70fda434945"
      },
      "execution_count": 4,
      "outputs": [
        {
          "output_type": "stream",
          "name": "stdout",
          "text": [
            "Ответ на задачу 3 = 7500 и 9000.0\n"
          ]
        }
      ]
    }
  ]
}