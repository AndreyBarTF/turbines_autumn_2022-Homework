{
  "nbformat": 4,
  "nbformat_minor": 0,
  "metadata": {
    "colab": {
      "provenance": [],
      "authorship_tag": "ABX9TyOwVAlf7LYDGB6redzjwXD3",
      "include_colab_link": true
    },
    "kernelspec": {
      "name": "python3",
      "display_name": "Python 3"
    },
    "language_info": {
      "name": "python"
    }
  },
  "cells": [
    {
      "cell_type": "markdown",
      "metadata": {
        "id": "view-in-github",
        "colab_type": "text"
      },
      "source": [
        "<a href=\"https://colab.research.google.com/github/AndreyBarTF/turbines_autumn_2022-Homework/blob/%D0%94%D0%97.1/%D0%94%D0%97.1%20%D0%97%D0%B0%D0%B4%D0%B0%D1%87%D0%B8%201.1/1.2.ipynb\" target=\"_parent\"><img src=\"https://colab.research.google.com/assets/colab-badge.svg\" alt=\"Open In Colab\"/></a>"
      ]
    },
    {
      "cell_type": "code",
      "execution_count": 9,
      "metadata": {
        "colab": {
          "base_uri": "https://localhost:8080/",
          "height": 434
        },
        "id": "49Eg74K0Zv5C",
        "outputId": "38e08e68-2e0e-41eb-8df6-749eed693bc3"
      },
      "outputs": [
        {
          "output_type": "stream",
          "name": "stdout",
          "text": [
            "Looking in indexes: https://pypi.org/simple, https://us-python.pkg.dev/colab-wheels/public/simple/\n",
            "Requirement already satisfied: iapws in /usr/local/lib/python3.7/dist-packages (1.5.3)\n",
            "Requirement already satisfied: scipy>=1.2 in /usr/local/lib/python3.7/dist-packages (from iapws) (1.7.3)\n",
            "Requirement already satisfied: numpy<1.23.0,>=1.16.5 in /usr/local/lib/python3.7/dist-packages (from scipy>=1.2->iapws) (1.21.6)\n",
            "Ответ на задачу 1: 37.05 %\n",
            "Ответ на задачу 1: 39.925 %\n",
            "Ответ на задачу 1: 41.708 %\n",
            "Ответ на задачу 1: 43.188 %\n",
            "Ответ на задачу 1: 44.539 %\n"
          ]
        },
        {
          "output_type": "display_data",
          "data": {
            "text/plain": [
              "<Figure size 432x288 with 1 Axes>"
            ],
            "image/png": "[encoded data removed]"
          },
          "metadata": {
            "needs_background": "light"
          }
        }
      ],
      "source": [
        "!pip install iapws\n",
        "import matplotlib.pyplot as plt\n",
        "import numpy as np\n",
        "import iapws\n",
        "from iapws import IAPWS97 as gas\n",
        "MPa = 10 ** 6\n",
        "kPa = 10 ** 3\n",
        "unit = 1 / MPa\n",
        "to_kelvin = lambda x: x + 273.15 if x else None\n",
        "# Начальные параметры:\n",
        "p_k = 5 * kPa\n",
        "\n",
        "p_01 = 5 * MPa\n",
        "p_02 = 10 * MPa\n",
        "p_03 = 15 * MPa\n",
        "p_04 = 20 * MPa\n",
        "p_05 = 25 * MPa\n",
        "\n",
        "t_01 = to_kelvin(300)\n",
        "t_02 = to_kelvin(350)\n",
        "t_03 = to_kelvin(400)\n",
        "t_04 = to_kelvin(450)\n",
        "t_05 = to_kelvin(500)\n",
        "# Определим точки, которые нам нужны\n",
        "\n",
        "point_01 = gas(P=p_01 * unit, T=t_01)\n",
        "point_02 = gas(P=p_02 * unit, T=t_02)\n",
        "point_03 = gas(P=p_03 * unit, T=t_03)\n",
        "point_04 = gas(P=p_04 * unit, T=t_04)\n",
        "point_05 = gas(P=p_05 * unit, T=t_05)\n",
        "\n",
        "point_condenser_inlet1 = gas(P=p_k * unit, s=point_01.s)\n",
        "point_condenser_inlet2 = gas(P=p_k * unit, s=point_02.s)\n",
        "point_condenser_inlet3 = gas(P=p_k * unit, s=point_03.s)\n",
        "point_condenser_inlet4 = gas(P=p_k * unit, s=point_04.s)\n",
        "point_condenser_inlet5 = gas(P=p_k * unit, s=point_05.s)\n",
        "\n",
        "point_pump_outlet = gas(P=p_k * unit, x=0)\n",
        "\n",
        "useful_energy1 = point_01.h - point_condenser_inlet1.h\n",
        "useful_energy2 = point_02.h - point_condenser_inlet2.h\n",
        "useful_energy3 = point_03.h - point_condenser_inlet3.h\n",
        "useful_energy4 = point_04.h - point_condenser_inlet4.h\n",
        "useful_energy5 = point_05.h - point_condenser_inlet5.h\n",
        "\n",
        "full_energy1 = point_01.h - point_pump_outlet.h\n",
        "full_energy2 = point_02.h - point_pump_outlet.h\n",
        "full_energy3 = point_03.h - point_pump_outlet.h\n",
        "full_energy4 = point_04.h - point_pump_outlet.h\n",
        "full_energy5 = point_05.h - point_pump_outlet.h\n",
        "\n",
        "efficiency1 = useful_energy1 / full_energy1\n",
        "efficiency2 = useful_energy2 / full_energy2\n",
        "efficiency3 = useful_energy3 / full_energy3\n",
        "efficiency4 = useful_energy4 / full_energy4\n",
        "efficiency5 = useful_energy5/ full_energy5\n",
        "print(\"Ответ на задачу 1:\", round(efficiency1 * 100, 3), \"%\")\n",
        "print(\"Ответ на задачу 1:\", round(efficiency2 * 100, 3), \"%\")\n",
        "print(\"Ответ на задачу 1:\", round(efficiency3 * 100, 3), \"%\")\n",
        "print(\"Ответ на задачу 1:\", round(efficiency4 * 100, 3), \"%\")\n",
        "print(\"Ответ на задачу 1:\", round(efficiency5 * 100, 3), \"%\")\n",
        "\n",
        "X = np.array([p_01, p_02, p_03, p_04, p_05])\n",
        "Y = np.array([efficiency1, efficiency2, efficiency3, efficiency4, efficiency5])\n",
        "\n",
        "plt.plot(X,Y)\n",
        "\n",
        "plt.show()\n",
        "\n"
      ]
    },
    {
      "cell_type": "code",
      "source": [
        "!pip install iapws\n",
        "import matplotlib.pyplot as plt\n",
        "import numpy as np\n",
        "import iapws\n",
        "from iapws import IAPWS97 as gas\n",
        "MPa = 10 ** 6\n",
        "kPa = 10 ** 3\n",
        "unit = 1 / MPa\n",
        "to_kelvin = lambda x: x + 273.15 if x else None\n",
        "# Начальные параметры:\n",
        "p_k1 = 5 * kPa\n",
        "p_k2 = 10 * kPa\n",
        "p_k3 = 15 * kPa\n",
        "p_k4 = 20 * kPa\n",
        "p_k5 = 50 * kPa\n",
        "\n",
        "p_0 = 5 * MPa\n",
        "\n",
        "t_0 = to_kelvin(450)\n",
        "\n",
        "# Определим точки, которые нам нужны\n",
        "\n",
        "point_0 = gas(P=p_0 * unit, T=t_0)\n",
        "\n",
        "\n",
        "point_condenser_inlet1 = gas(P=p_k1 * unit, s=point_0.s)\n",
        "point_condenser_inlet2 = gas(P=p_k2 * unit, s=point_0.s)\n",
        "point_condenser_inlet3 = gas(P=p_k3 * unit, s=point_0.s)\n",
        "point_condenser_inlet4 = gas(P=p_k4 * unit, s=point_0.s)\n",
        "point_condenser_inlet5 = gas(P=p_k5 * unit, s=point_0.s)\n",
        "\n",
        "point_pump_outlet1 = gas(P=p_k1 * unit, x=0)\n",
        "point_pump_outlet2 = gas(P=p_k2 * unit, x=0)\n",
        "point_pump_outlet3 = gas(P=p_k3 * unit, x=0)\n",
        "point_pump_outlet4 = gas(P=p_k4 * unit, x=0)\n",
        "point_pump_outlet5 = gas(P=p_k5 * unit, x=0)\n",
        "\n",
        "useful_energy1 = point_0.h - point_condenser_inlet1.h\n",
        "useful_energy2 = point_0.h - point_condenser_inlet2.h\n",
        "useful_energy3 = point_0.h - point_condenser_inlet3.h\n",
        "useful_energy4 = point_0.h - point_condenser_inlet4.h\n",
        "useful_energy5 = point_0.h - point_condenser_inlet5.h\n",
        "\n",
        "full_energy1 = point_0.h - point_pump_outlet1.h\n",
        "full_energy2 = point_0.h - point_pump_outlet2.h\n",
        "full_energy3 = point_0.h - point_pump_outlet3.h\n",
        "full_energy4 = point_0.h - point_pump_outlet4.h\n",
        "full_energy5 = point_0.h - point_pump_outlet5.h\n",
        "\n",
        "efficiency1 = useful_energy1 / full_energy1\n",
        "efficiency2 = useful_energy2 / full_energy2\n",
        "efficiency3 = useful_energy3 / full_energy3\n",
        "efficiency4 = useful_energy4 / full_energy4\n",
        "efficiency5 = useful_energy5/ full_energy5\n",
        "print(\"Ответ на задачу 1:\", round(efficiency1 * 100, 3), \"%\")\n",
        "print(\"Ответ на задачу 1:\", round(efficiency2 * 100, 3), \"%\")\n",
        "print(\"Ответ на задачу 1:\", round(efficiency3 * 100, 3), \"%\")\n",
        "print(\"Ответ на задачу 1:\", round(efficiency4 * 100, 3), \"%\")\n",
        "print(\"Ответ на задачу 1:\", round(efficiency5 * 100, 3), \"%\")\n",
        "\n",
        "X = np.array([p_k1, p_k2, p_k3, p_k4, p_k5])\n",
        "Y = np.array([efficiency1, efficiency2, efficiency3, efficiency4, efficiency5])\n",
        "\n",
        "plt.plot(X,Y)\n",
        "\n",
        "plt.show()"
      ],
      "metadata": {
        "colab": {
          "base_uri": "https://localhost:8080/",
          "height": 421
        },
        "id": "LvQIH77rbx97",
        "outputId": "cdafd985-74ec-4003-df83-09ed39df1a08"
      },
      "execution_count": 12,
      "outputs": [
        {
          "output_type": "stream",
          "name": "stdout",
          "text": [
            "Looking in indexes: https://pypi.org/simple, https://us-python.pkg.dev/colab-wheels/public/simple/\n",
            "Requirement already satisfied: iapws in /usr/local/lib/python3.7/dist-packages (1.5.3)\n",
            "Requirement already satisfied: scipy>=1.2 in /usr/local/lib/python3.7/dist-packages (from iapws) (1.7.3)\n",
            "Requirement already satisfied: numpy<1.23.0,>=1.16.5 in /usr/local/lib/python3.7/dist-packages (from scipy>=1.2->iapws) (1.21.6)\n",
            "Ответ на задачу 1: 38.93 %\n",
            "Ответ на задачу 1: 37.014 %\n",
            "Ответ на задачу 1: 35.807 %\n",
            "Ответ на задачу 1: 34.907 %\n",
            "Ответ на задачу 1: 31.766 %\n"
          ]
        },
        {
          "output_type": "display_data",
          "data": {
            "text/plain": [
              "<Figure size 432x288 with 1 Axes>"
            ],
            "image/png": "[encoded data removed]"
          },
          "metadata": {
            "needs_background": "light"
          }
        }
      ]
    },
    {
      "cell_type": "code",
      "source": [],
      "metadata": {
        "id": "NFxBbRfrztwZ"
      },
      "execution_count": null,
      "outputs": []
    }
  ]
}
