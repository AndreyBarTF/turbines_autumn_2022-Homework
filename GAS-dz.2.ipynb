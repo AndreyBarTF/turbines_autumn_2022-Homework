{
  "nbformat": 4,
  "nbformat_minor": 0,
  "metadata": {
    "colab": {
      "provenance": [],
      "authorship_tag": "ABX9TyO0AvsUc9ABgaEhs2RLsXpI",
      "include_colab_link": true
    },
    "kernelspec": {
      "name": "python3",
      "display_name": "Python 3"
    },
    "language_info": {
      "name": "python"
    }
  },
  "cells": [
    {
      "cell_type": "markdown",
      "metadata": {
        "id": "view-in-github",
        "colab_type": "text"
      },
      "source": [
        "<a href=\"https://colab.research.google.com/github/AndreyBarTF/turbines_autumn_2022-Homework/blob/GAS-%D0%94%D0%97.2/GAS-dz.2.ipynb\" target=\"_parent\"><img src=\"https://colab.research.google.com/assets/colab-badge.svg\" alt=\"Open In Colab\"/></a>"
      ]
    },
    {
      "cell_type": "markdown",
      "source": [
        "*   ФИО Барбашин Андрей Алексеевич\n",
        "*   Группа ТФэ-01-20\n",
        "*   Тлеграмм @QwertyAlexx"
      ],
      "metadata": {
        "id": "G-3BSUOj1ail"
      }
    },
    {
      "cell_type": "markdown",
      "source": [
        "## Домашняя работа\n",
        "Построить графики зависимостией $\\varphi(\\varepsilon)$, $\\eta_i(\\varepsilon)$, $H(\\varepsilon)$, для $\\eta_т$=0.88, $\\eta_к$ = 0.85, при различных значениях температуры перед газовой турбиной $T_c$ и температурой воздуха перед компрессором $t_a=0$ C. m = 0.25, $\\delta == \\varepsilon$, $\\eta_{кс}$ = 1. \n",
        "\n",
        "$t_c$ = 400, 500, 600, 700, 800, 900, 1200, 1400 C\n",
        "\n",
        "Найти оптимум по мощности и по КПД для температуры $t_c$ = 1200 и построить на графиках в этих точках вертикальную линию (или поставить заметную точку на соответствующей кривой)"
      ],
      "metadata": {
        "id": "aa_OKw7d1d3L"
      }
    },
    {
      "cell_type": "code",
      "execution_count": 27,
      "metadata": {
        "id": "UY45JjRr1LKs",
        "colab": {
          "base_uri": "https://localhost:8080/",
          "height": 339
        },
        "outputId": "d8588f34-c70b-410c-ddcb-8bb354c9e9c4"
      },
      "outputs": [
        {
          "output_type": "error",
          "ename": "TypeError",
          "evalue": "ignored",
          "traceback": [
            "\u001b[0;31m---------------------------------------------------------------------------\u001b[0m",
            "\u001b[0;31mTypeError\u001b[0m                                 Traceback (most recent call last)",
            "\u001b[0;32m<ipython-input-27-38042971e72c>\u001b[0m in \u001b[0;36m<module>\u001b[0;34m\u001b[0m\n\u001b[1;32m     51\u001b[0m \u001b[0;34m\u001b[0m\u001b[0m\n\u001b[1;32m     52\u001b[0m \u001b[0;34m\u001b[0m\u001b[0m\n\u001b[0;32m---> 53\u001b[0;31m \u001b[0mprint\u001b[0m\u001b[0;34m(\u001b[0m\u001b[0museful_cycle_work\u001b[0m\u001b[0;34m(\u001b[0m\u001b[0mT_a\u001b[0m\u001b[0;34m,\u001b[0m \u001b[0mT_c\u001b[0m\u001b[0;34m,\u001b[0m \u001b[0meps\u001b[0m\u001b[0;34m)\u001b[0m\u001b[0;34m)\u001b[0m\u001b[0;34m\u001b[0m\u001b[0;34m\u001b[0m\u001b[0m\n\u001b[0m\u001b[1;32m     54\u001b[0m \u001b[0;34m\u001b[0m\u001b[0m\n",
            "\u001b[0;32m<ipython-input-27-38042971e72c>\u001b[0m in \u001b[0;36museful_cycle_work\u001b[0;34m(T_c, T_a, EPS)\u001b[0m\n\u001b[1;32m     45\u001b[0m \u001b[0;34m\u001b[0m\u001b[0m\n\u001b[1;32m     46\u001b[0m   \u001b[0mH_t\u001b[0m \u001b[0;34m=\u001b[0m \u001b[0mCp\u001b[0m \u001b[0;34m*\u001b[0m \u001b[0mT_c\u001b[0m \u001b[0;34m*\u001b[0m \u001b[0;34m(\u001b[0m\u001b[0;36m1\u001b[0m \u001b[0;34m-\u001b[0m \u001b[0meps\u001b[0m \u001b[0;34m**\u001b[0m \u001b[0;34m(\u001b[0m\u001b[0;34m-\u001b[0m\u001b[0mm\u001b[0m\u001b[0;34m)\u001b[0m\u001b[0;34m)\u001b[0m \u001b[0;34m*\u001b[0m \u001b[0mturbine_efficiency\u001b[0m\u001b[0;34m\u001b[0m\u001b[0;34m\u001b[0m\u001b[0m\n\u001b[0;32m---> 47\u001b[0;31m   \u001b[0mH_k\u001b[0m \u001b[0;34m=\u001b[0m \u001b[0mCp\u001b[0m \u001b[0;34m*\u001b[0m \u001b[0mT_a\u001b[0m \u001b[0;34m*\u001b[0m \u001b[0;34m(\u001b[0m\u001b[0;34m(\u001b[0m\u001b[0meps\u001b[0m \u001b[0;34m**\u001b[0m \u001b[0mm\u001b[0m\u001b[0;34m)\u001b[0m \u001b[0;34m-\u001b[0m \u001b[0;36m1\u001b[0m\u001b[0;34m)\u001b[0m \u001b[0;34m/\u001b[0m \u001b[0mcompressor_efficiency\u001b[0m\u001b[0;34m\u001b[0m\u001b[0;34m\u001b[0m\u001b[0m\n\u001b[0m\u001b[1;32m     48\u001b[0m   \u001b[0mucw\u001b[0m \u001b[0;34m=\u001b[0m \u001b[0;34m(\u001b[0m\u001b[0mH_t\u001b[0m \u001b[0;34m-\u001b[0m \u001b[0mH_k\u001b[0m\u001b[0;34m)\u001b[0m\u001b[0;34m/\u001b[0m\u001b[0;36m1000\u001b[0m\u001b[0;34m\u001b[0m\u001b[0;34m\u001b[0m\u001b[0m\n\u001b[1;32m     49\u001b[0m   \u001b[0;32mreturn\u001b[0m \u001b[0mucw\u001b[0m\u001b[0;34m\u001b[0m\u001b[0;34m\u001b[0m\u001b[0m\n",
            "\u001b[0;31mTypeError\u001b[0m: can't multiply sequence by non-int of type 'float'"
          ]
        }
      ],
      "source": [
        "import matplotlib.pyplot as plt\n",
        "import numpy as np\n",
        "to_kelvin = lambda x: x + 273.15\n",
        "MPa = 1e6\n",
        "\n",
        "#Исходные данные\n",
        "turbine_efficiency = 0.88\n",
        "compressor_efficiency = 0.85\n",
        "T_a = to_kelvin(0)\n",
        "m = 0.25\n",
        "#дельта == эпсилон\n",
        "combustor_efficiency = 1\n",
        "t_с = np.arange(400,1400,100)\n",
        "T_c = list(map(to_kelvin,t_с))\n",
        "eps = np.arange(1,80,0.5)\n",
        "Cp_air = 1007\n",
        "Cp_gas = 1225\n",
        "Cp = (Cp_air + Cp_gas) / 2\n",
        "\n",
        "#расчет полезной работы(фи)\n",
        "def work_coefficient(T_a, T_c, eps):\n",
        "  tau =[]\n",
        "  for value in T_c:\n",
        "    tau.append(value / T_a)\n",
        "  for value in tau:\n",
        "    num = eps ** m\n",
        "    denum = value * turbine_efficiency * compressor_efficiency\n",
        "    work_coeff = 1 - num/denum\n",
        "  return work_coeff\n",
        "\n",
        "#расчет КПД\n",
        "def efficiency(T_a, T_c, eps):  \n",
        "  tau =[]\n",
        "  for value in T_c:\n",
        "    tau.append(value / T_a)\n",
        "  for value in tau:\n",
        "    num_1 = value * turbine_efficiency * (1 - eps ** (-m))\n",
        "    num_2 = ((eps ** m) - 1) / compressor_efficiency\n",
        "    denum = tau - 1 - (eps ** m - 1) / compressor_efficiency\n",
        "    eff = (num_1 - num_2) / denum\n",
        "  return eff\n",
        "\n",
        "#расчет полезной работы за цикл\n",
        "def useful_cycle_work(T_c, T_a, EPS):   \n",
        "\n",
        "  H_t = Cp * T_c * (1 - eps ** (-m)) * turbine_efficiency\n",
        "  H_k = Cp * T_a * ((eps ** m) - 1) / compressor_efficiency\n",
        "  ucw = (H_t - H_k)/1000\n",
        "  return ucw\n",
        "\n",
        "\n",
        "\n",
        "print(useful_cycle_work(T_a, T_c, eps))\n",
        "\n"
      ]
    }
  ]
}