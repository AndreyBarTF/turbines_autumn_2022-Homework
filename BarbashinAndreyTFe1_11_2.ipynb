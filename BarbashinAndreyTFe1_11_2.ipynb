{
  "cells": [
    {
      "cell_type": "markdown",
      "metadata": {
        "id": "view-in-github",
        "colab_type": "text"
      },
      "source": [
        "<a href=\"https://colab.research.google.com/github/AndreyBarTF/turbines_autumn_2022-Homework/blob/%D0%94%D0%97.1/BarbashinAndreyTFe1_11_2.ipynb\" target=\"_parent\"><img src=\"https://colab.research.google.com/assets/colab-badge.svg\" alt=\"Open In Colab\"/></a>"
      ]
    },
    {
      "cell_type": "markdown",
      "metadata": {
        "id": "mDvjVASNNuEr"
      },
      "source": [
        "*   ФИО Барбашин Андрей Алексеевич\n",
        "*   Группа ТФэ-01-20\n",
        "*   Тлеграмм @QwertyAlexx"
      ]
    },
    {
      "cell_type": "markdown",
      "metadata": {
        "id": "JlOxVQriIOQ0"
      },
      "source": [
        "Задача 1\n",
        "Построить график зависимости термического КПД паротурбинного цикла без промежуточного перегрева пара при следующих параметрах пара: P0 = 5, 10, 15, 20 MPa. Для каждого значения взять следующие значения температуры t0 = 300, 350, 400, 450, 500 градусов Цельсия, Pk = 5 kPa. Принять давление за последней ступенью паровой турбины P2 = Pk. Термический КПД цикла оценивать без учета подогрева воды в питательном насосе и регенеративной системе."
      ]
    },
    {
      "cell_type": "code",
      "execution_count": 24,
      "metadata": {
        "colab": {
          "base_uri": "https://localhost:8080/",
          "height": 403
        },
        "id": "NFxBbRfrztwZ",
        "outputId": "2bd30d76-c5dc-422f-f212-960b0d346d6b"
      },
      "outputs": [
        {
          "output_type": "stream",
          "name": "stdout",
          "text": [
            "Looking in indexes: https://pypi.org/simple, https://us-python.pkg.dev/colab-wheels/public/simple/\n",
            "Requirement already satisfied: iapws in /usr/local/lib/python3.7/dist-packages (1.5.3)\n",
            "Requirement already satisfied: scipy>=1.2 in /usr/local/lib/python3.7/dist-packages (from iapws) (1.7.3)\n",
            "Requirement already satisfied: numpy<1.23.0,>=1.16.5 in /usr/local/lib/python3.7/dist-packages (from scipy>=1.2->iapws) (1.21.6)\n",
            "Ответ на задачу 1.1 =  {573.15: [37.050497725026574, 29.618123112036514, 29.8555757014972, 30.10623495498302], 623.15: [37.62360958747929, 39.92464144485074, 40.510385845552, 34.0018742566356], 673.15: [38.25260083190457, 40.67223823169738, 41.70837545722558, 42.01545604058662], 723.15: [38.930156183806574, 41.393094026307395, 42.57608419957084, 43.188245020181604], 773.15: [39.64787856853082, 42.11798995415142, 43.370325700117775, 44.10561365352634]}\n"
          ]
        },
        {
          "output_type": "display_data",
          "data": {
            "text/plain": [
              "<Figure size 432x288 with 1 Axes>"
            ],
            "image/png": "[encoded data removed]"
          },
          "metadata": {
            "needs_background": "light"
          }
        }
      ],
      "source": [
        "!pip install iapws\n",
        "import matplotlib.pyplot as plt\n",
        "import numpy as np\n",
        "import iapws\n",
        "from iapws import IAPWS97 as gas\n",
        "from typing import Optional, Tuple, List, Union\n",
        "\n",
        "point_type = iapws.iapws97.IAPWS97\n",
        "MPa = 10 ** 6\n",
        "kPa = 10 ** 3\n",
        "unit = 1 / MPa\n",
        "to_kelvin = lambda x: x + 273.15 if x else None\n",
        "\n",
        "\n",
        "def multiply(x):\n",
        "    return x * 10**3\n",
        "def multiply1(x):\n",
        "    return x * 10**6\n",
        "p_0 = [5,10,15,20]\n",
        "p_0 = list(map(multiply1,p_0))\n",
        "p_k = 5 * kPa\n",
        "\n",
        "t = [300,350,400,450,500]\n",
        "t_0 = list(map(to_kelvin,t))\n",
        "\n",
        "def check_is_valid_numerical(values: List[Union[None, float]]) -> None:\n",
        "\n",
        "    for value in values:\n",
        "        if value:\n",
        "            if not isinstance(value, (int, float)):\n",
        "                raise ValueError(f\"Argument should be int or float value! Given {type(value)}\")\n",
        "\n",
        "def construct_cycle_points(\n",
        "    p_0: Union[int, float],\n",
        "    p_k: Union[int, float],\n",
        "    t_0: Optional[Union[int, float]] = None,\n",
        "    x_0: Optional[Union[int, float]] = None, \n",
        ") -> Tuple[point_type, point_type, point_type]:\n",
        "\n",
        "    check_is_valid_numerical([p_0, p_k, t_0, x_0])\n",
        "    if not t_0 and not x_0:\n",
        "        raise ValueError(\"Neither t_0 not x_0 is not provided for start expansion point!\")\n",
        "    if not (p_0 and p_k):\n",
        "        raise ValueError(\"P_0 and p_k must be specified!\")\n",
        "    if x_0 and (x_0 > 1 or x_0 < 0):\n",
        "        raise ValueError(\"x_0 should be between 0 and 1\")\n",
        "        \n",
        "    if t_0:\n",
        "        point_0 = gas(P=p_0, T=t_0)\n",
        "    else:\n",
        "        point_0 = gas(P=p_0, x=x_0)\n",
        "    \n",
        "    p_condenser = gas(P=p_k, s=point_0.s)\n",
        "    p_pump = gas(P=p_k, x=0)\n",
        "    \n",
        "    return point_0, p_condenser, p_pump\n",
        "\n",
        "\n",
        "def compute_cycle_efficiency(p_0: point_type, p_condenser: point_type, p_pump: point_type) -> float:\n",
        " \n",
        "    useful_energy = p_0.h - p_condenser.h\n",
        "    full_energy = p_0.h - p_pump.h\n",
        "    efficiency = useful_energy / full_energy * 100\n",
        "    return efficiency\n",
        "\n",
        "def solve_exercise(\n",
        "    p_0: Union[int, float],\n",
        "    p_k: Union[int, float],\n",
        "    t_0: Optional[Union[int, float]] = None,\n",
        "    x_0: Optional[Union[int, float]] = None,) -> float:\n",
        "  \n",
        "    point_0, p_condenser, p_pump = construct_cycle_points(\n",
        "        p_0=p_0 * unit,\n",
        "        p_k=p_k * unit,\n",
        "        t_0=t_0,\n",
        "        x_0=x_0\n",
        "    )\n",
        "\n",
        "    efficiency = compute_cycle_efficiency(p_0=point_0, p_condenser=p_condenser, p_pump=p_pump)\n",
        "    \n",
        "    return efficiency\n",
        "# Начальные параметры:\n",
        "\n",
        "\n",
        "eff = dict()\n",
        "for t0value in t_0:\n",
        "    eff[t0value]= []\n",
        "    for p0value in p_0:\n",
        "        eff[t0value].append(solve_exercise(p0value,p_k,t0value))\n",
        "print('Ответ на задачу 1.1 = ', eff)\n",
        "\n",
        "X = p_0\n",
        "Y = eff[573.15]\n",
        "Y1 = eff[623.15]\n",
        "Y2 = eff[673.15]\n",
        "Y3 = eff[723.15]\n",
        "Y4 = eff[773.15]\n",
        "\n",
        "plt.plot(X,Y)\n",
        "plt.plot(X,Y1)\n",
        "plt.plot(X,Y2)\n",
        "plt.plot(X,Y3)\n",
        "plt.plot(X,Y4)\n",
        "plt.grid(True)\n",
        "plt.title('График зависимости термического КПД от p_0')\n",
        "plt.ylabel('КПД')\n",
        "plt.xlabel('p_0')\n",
        "plt.legend(['300С','350С','400С','450С','500C'])\n",
        "plt.show()\n"
      ]
    },
    {
      "cell_type": "markdown",
      "metadata": {
        "id": "yibtqzi1Lx34"
      },
      "source": [
        "Задача 2 Построить график зависимости термического КПД паротурбинного цикла без промежуточного перегрева пара при следующих параметрах пара: P0 = 5 MPa, t0 = 450 градусов Цельсия, Pk = 5, 10, 15, 20, 50 kPa. Принять давление за последней ступенью паровой турбины P2 = Pk. Термический КПД цикла оценивать без учета подогрева воды в питательном насосе и регенеративной системе."
      ]
    },
    {
      "cell_type": "code",
      "execution_count": 7,
      "metadata": {
        "colab": {
          "base_uri": "https://localhost:8080/",
          "height": 383
        },
        "id": "ywDCoFjnKXml",
        "outputId": "79d9ffa4-9849-4f4b-da95-8c1ac81e0f77"
      },
      "outputs": [
        {
          "output_type": "stream",
          "name": "stdout",
          "text": [
            "Looking in indexes: https://pypi.org/simple, https://us-python.pkg.dev/colab-wheels/public/simple/\n",
            "Requirement already satisfied: iapws in /usr/local/lib/python3.7/dist-packages (1.5.3)\n",
            "Requirement already satisfied: scipy>=1.2 in /usr/local/lib/python3.7/dist-packages (from iapws) (1.7.3)\n",
            "Requirement already satisfied: numpy<1.23.0,>=1.16.5 in /usr/local/lib/python3.7/dist-packages (from scipy>=1.2->iapws) (1.21.6)\n",
            "Ответ на задачу 1.2: [43.13716841557481, 41.34900158661684, 40.22403231473411, 39.38654676617682, 36.47072568125424]\n"
          ]
        },
        {
          "output_type": "display_data",
          "data": {
            "text/plain": [
              "<Figure size 432x288 with 1 Axes>"
            ],
            "image/png": "[encoded data removed]"
          },
          "metadata": {
            "needs_background": "light"
          }
        }
      ],
      "source": [
        "!pip install iapws\n",
        "import matplotlib.pyplot as plt\n",
        "import numpy as np\n",
        "import iapws\n",
        "from iapws import IAPWS97 as gas\n",
        "from typing import Optional, Tuple, List, Union\n",
        "import pandas as pd\n",
        "point_type = iapws.iapws97.IAPWS97\n",
        "MPa = 10 ** 6\n",
        "kPa = 10 ** 3\n",
        "unit = 1 / MPa\n",
        "to_kelvin = lambda x: x + 273.15 if x else None\n",
        "\n",
        "def check_is_valid_numerical(values: List[Union[None, float]]) -> None:\n",
        "\n",
        "    for value in values:\n",
        "        if value:\n",
        "            if not isinstance(value, (int, float)):\n",
        "                raise ValueError(f\"Argument should be int or float value! Given {type(value)}\")\n",
        "\n",
        "\n",
        "def construct_cycle_points(\n",
        "    p_0: Union[int, float],\n",
        "    p_k: Union[int, float],\n",
        "    t_0: Optional[Union[int, float]] = None,\n",
        "    x_0: Optional[Union[int, float]] = None, \n",
        ") -> Tuple[point_type, point_type, point_type]:\n",
        "\n",
        "    check_is_valid_numerical([p_0, p_k, t_0, x_0])\n",
        "    if not t_0 and not x_0:\n",
        "        raise ValueError(\"Neither t_0 not x_0 is not provided for start expansion point!\")\n",
        "    if not (p_0 and p_k):\n",
        "        raise ValueError(\"P_0 and p_k must be specified!\")\n",
        "    if x_0 and (x_0 > 1 or x_0 < 0):\n",
        "        raise ValueError(\"x_0 should be between 0 and 1\")\n",
        "        \n",
        "    if t_0:\n",
        "        point_0 = gas(P=p_0, T=t_0)\n",
        "    else:\n",
        "        point_0 = gas(P=p_0, x=x_0)\n",
        "    \n",
        "    p_condenser = gas(P=p_k, s=point_0.s)\n",
        "    p_pump = gas(P=p_k, x=0)\n",
        "    \n",
        "    return point_0, p_condenser, p_pump\n",
        "\n",
        "\n",
        "def compute_cycle_efficiency(p_0: point_type, p_condenser: point_type, p_pump: point_type) -> float:\n",
        " \n",
        "    useful_energy = p_0.h - p_condenser.h\n",
        "    full_energy = p_0.h - p_pump.h\n",
        "    efficiency = useful_energy / full_energy *100\n",
        "    return efficiency\n",
        "\n",
        "\n",
        "def solve_exercise(\n",
        "    p_0: Union[int, float],\n",
        "    p_k: Union[int, float],\n",
        "    t_0: Optional[Union[int, float]] = None,\n",
        "    x_0: Optional[Union[int, float]] = None,) -> float:\n",
        "  \n",
        "    point_0, p_condenser, p_pump = construct_cycle_points(\n",
        "        p_0=p_0 * unit,\n",
        "        p_k=p_k * unit,\n",
        "        t_0=to_kelvin(t_0),\n",
        "        x_0=x_0\n",
        "    )\n",
        "\n",
        "    efficiency = compute_cycle_efficiency(p_0=point_0, p_condenser=p_condenser, p_pump=p_pump)\n",
        "    \n",
        "    return efficiency\n",
        "# Начальные параметры:\n",
        "def temp(x):\n",
        "    return to_kelvin(x)\n",
        "def multiply(x):\n",
        "    return x * 10**3\n",
        "def multiply1(x):\n",
        "    return x * 10**6\n",
        "\n",
        "kPa = [5,10,15,20,50]\n",
        "MPa = [5,5,5,5,5]\n",
        "t = [450,450,450,450,450]\n",
        "\n",
        "p_k0 = list(map(multiply,kPa))\n",
        "p_0 = list(map(multiply1,MPa))\n",
        "t_0 = list(map(temp,t))\n",
        "\n",
        "efficiency5Mpa = list(map(solve_exercise, p_0, p_k0, t_0))\n",
        "\n",
        "print(\"Ответ на задачу 1.2:\", efficiency5Mpa)\n",
        "\n",
        "X = np.array(p_k0)\n",
        "Y = np.array(efficiency5Mpa)\n",
        "\n",
        "plt.plot(X,Y)\n",
        "plt.grid(True)\n",
        "plt.title('График зависимости термического КПД от p_k')\n",
        "plt.ylabel('КПД')\n",
        "plt.xlabel('p_k')\n",
        "plt.legend(['450С'])\n",
        "plt.show()"
      ]
    }
  ],
  "metadata": {
    "colab": {
      "provenance": [],
      "collapsed_sections": [],
      "include_colab_link": true
    },
    "kernelspec": {
      "display_name": "Python 3",
      "name": "python3"
    },
    "language_info": {
      "name": "python"
    }
  },
  "nbformat": 4,
  "nbformat_minor": 0
}