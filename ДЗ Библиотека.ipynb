{
  "nbformat": 4,
  "nbformat_minor": 0,
  "metadata": {
    "colab": {
      "provenance": [],
      "authorship_tag": "ABX9TyPCcNNENZXloTGQyd613HxU",
      "include_colab_link": true
    },
    "kernelspec": {
      "name": "python3",
      "display_name": "Python 3"
    },
    "language_info": {
      "name": "python"
    }
  },
  "cells": [
    {
      "cell_type": "markdown",
      "metadata": {
        "id": "view-in-github",
        "colab_type": "text"
      },
      "source": [
        "<a href=\"https://colab.research.google.com/github/AndreyBarTF/turbines_autumn_2022-Homework/blob/GAS-%D0%94%D0%97.1/%D0%94%D0%97%20%D0%91%D0%B8%D0%B1%D0%BB%D0%B8%D0%BE%D1%82%D0%B5%D0%BA%D0%B0.ipynb\" target=\"_parent\"><img src=\"https://colab.research.google.com/assets/colab-badge.svg\" alt=\"Open In Colab\"/></a>"
      ]
    },
    {
      "cell_type": "markdown",
      "source": [
        "*   ФИО Барбашин Андрей Алексеевич\n",
        "*   Группа ТФэ-01-20\n",
        "*   Тлеграмм @QwertyAlexx"
      ],
      "metadata": {
        "id": "wFv8E2UkczWi"
      }
    },
    {
      "cell_type": "markdown",
      "source": [
        "\n",
        "Написать модуль кода в .py файле для дайльнейшего переиспользования в других домашних работах Модуль должен как минимум:\n",
        "\n",
        "1. Считать объемы продуктов сгорания\n",
        "2. Этальпию воздуха и продуктов сгорания\n",
        "3. PV=RT\n",
        "4. Процессов расширения (Опционально, все равно придется потом расширять)"
      ],
      "metadata": {
        "id": "jAsJjwtfqoG2"
      }
    },
    {
      "cell_type": "code",
      "execution_count": 33,
      "metadata": {
        "id": "_o1kn4UdqnPZ"
      },
      "outputs": [],
      "source": [
        "import numpy as np\n",
        "import math\n",
        "\n",
        "def check (CH, N2, CO2):\n",
        "  sum = 0\n",
        "  for value in CH:\n",
        "    sum += CH\n",
        "  sum = sum + N2 + CO2\n",
        "  if (sum == 1): \n",
        "    return True \n",
        "  else:\n",
        "    return False\n",
        "\n",
        "def Qnp (CH):\n",
        "  Qnp = 358.2 * CH[0] + 637.46 * CH[1] + 860.05 * CH[2] + 1185.8 * CH[3]\n",
        "  return Qnp\n",
        "\n",
        "#def Btg(Ngtu, effgtu, Qnp):\n",
        "  #Btg = Ngtu/(effgtu * Qnp)\n",
        "  #return Btg\n",
        "\n",
        "def V0 (CH):\n",
        "  sum = 0\n",
        "  m = 1 \n",
        "  n = 4\n",
        "  for value in CH:\n",
        "   sum += (m + (n/4)) * value\n",
        "   m += 1\n",
        "   n += 2\n",
        "  V0 = 0.0476 * sum\n",
        "  return V0\n",
        "\n",
        "def V0N2 (V0, N2):\n",
        "  V0N2 = 0.79 * V0 + 0.01 * N2\n",
        "  return V0N2\n",
        "\n",
        "def V0RO2 (CH, CO2):\n",
        "  sum = 0\n",
        "  m = 1 \n",
        "  for value in CH:\n",
        "   sum += m * value\n",
        "   m += 1\n",
        "  V0RO2 = 0.01 * (CO2 + sum) \n",
        "  return V0RO2\n",
        "\n",
        "def V0HO2 (CH, V0):\n",
        "  sum = 0\n",
        "  n = 4\n",
        "  for value in CH:\n",
        "   sum += (n/2) * value\n",
        "   n += 2\n",
        "  V0HO2 = 0.01 * (sum + 1.61 * V0) \n",
        "  return V0HO2\n",
        "\n",
        "def VHO2 (V0HO2, alfa, V0):\n",
        "  VHO2 = V0HO2 + 0.0161 * (alfa - 1) * V0\n",
        "  return VHO2\n",
        "\n",
        "def Vg (V0RO2, V0N2, VHO2, V0, alfa):\n",
        "  Vg = V0RO2 + V0N2 + VHO2 + (alfa - 1) * V0\n",
        "  return Vg\n",
        "\n",
        "def Cco2 (Tg):\n",
        "  Cco2 = 4.1868 * ((4.5784 * math.pow(10, -11) * (Tg ** 3)) - (1.51719 * math.pow(10, -7) * (Tg ** 2)) + (2.50113 * math.pow(10, -4) * Tg) + 0.382325)\n",
        "  return Cco2\n",
        "\n",
        "def CN2 (Tg):\n",
        "  CN2 = 4.1868 * ((-2.24553 * math.pow(10, -11) * (Tg ** 3)) + (4.85082 * math.pow(10, -8) * (Tg ** 2)) - (2.90598 * math.pow(10, -6) * Tg) + 0.309241)\n",
        "  return CN2\n",
        "\n",
        "def Ch2o (Tg):\n",
        "  Ch2o = 4.1868 * ((-2.10956 * math.pow(10, -11) * (Tg ** 3)) + (4.9732 * math.pow(10, -8) * (Tg ** 2)) + (2.60629 * math.pow(10, -5) * Tg) + 0.356691)\n",
        "  return Ch2o\n",
        "\n",
        "def Cvozd (Tg):\n",
        "  Cvozd = 4.1868 * ((-2.1717 * math.pow(10, -11) * (Tg ** 3)) + (4.19344 * math.pow(10, -8) * (Tg ** 2)) + (8.00891 * math.pow(10, -6) * Tg) + 0.315027)\n",
        "  return Cvozd\n",
        "\n",
        "def hg0 (V0RO2, Cco2, V0N2, CN2, VHO2, Ch2o, Tg):\n",
        "  hg0 = Tg * (V0RO2 * Cco2 + V0N2 * CN2 + VHO2 * Ch2o)\n",
        "  return hg0\n",
        "\n",
        "def hvozd0 (V0, Cvozd, Tg):\n",
        "  hvozd0 = Tg * (V0 * Cvozd)\n",
        "  return hvozd0\n",
        "\n",
        "def Hg0 (hg0, alfa, hvozd0):\n",
        "  Hg0 = hg0 + (alfa - 1) * hvozd0\n",
        "  return Hg0\n",
        "\n",
        "def PVRT (Vg, R, Tg):\n",
        "  PVRT = (R * Tg) / Vg\n",
        "  return PVRT\n",
        "\n",
        "def all (alfa, name, Tg):\n",
        "  gas_info = [\n",
        "    {\"name\":\"Уренгойское\", 'CH': [0.984, 0.001, 0, 0, 0], 'N2': 0.012, 'CO2':0.003},\n",
        "    {\"name\":\"Ямбургское\", 'CH': [0.986, 0.001, 0, 0, 0], 'N2': 0.012, 'CO2':0.001},\n",
        "    {\"name\":\"Заполярное\", 'CH': [0.993, 0.001, 0, 0, 0], 'N2': 0.004, 'CO2':0.002},\n",
        "    {\"name\":\"Медвежье\", 'CH': [0.973, 0.01, 0.001, 0.001, 0.001], 'N2': 0.005, 'CO2':0.005},\n",
        "    {\"name\":\"Оренбургское\", 'CH': [0.8377, 0.046, 0.0164, 0.0081, 0.0188], 'N2': 0.0434, 'CO2':0.0087},\n",
        "    {\"name\":\"Вуктыльское\", 'CH': [0.751, 0.089, 0.036, 0.015, 0.064], 'N2': 0.044, 'CO2':0.001},\n",
        "    {\"name\":\"Шебелинское\", 'CH': [0.9207, 0.0326, 0.0059, 0.0018, 0.006], 'N2': 0.013, 'CO2':0.02},\n",
        "    {\"name\":\"Газлинское\", 'CH': [0.969, 0.0174, 0.0004, 0.0001, 0.0001], 'N2': 0.0115, 'CO2':0.0015},\n",
        "    {\"name\":\"Астраханское\", 'CH': [0.9048, 0.0207, 0.0099, 0.0175, 0.0061], 'N2': 0.0345, 'CO2':0.0065}\n",
        "    ]\n",
        "  i = 0\n",
        "  for j in range(len(gas_info)):\n",
        "    if (gas_info[j][\"name\"] == name):\n",
        "        i = j\n",
        "  CH = gas_info[i]['CH']\n",
        "  N2 = gas_info[i]['N2']\n",
        "  CO2 = gas_info[i]['CO2']\n",
        "  #Tg = 450\n",
        "  R = 8.3144598\n",
        "  Q_np = Qnp(CH) \n",
        "  V_0 = V0(CH)\n",
        "  V_0N2 = V0N2(V_0, 0.005)\n",
        "  V_0RO2 = V0RO2(CH, 0.005)\n",
        "  V_0HO2 = V0HO2(CH, V_0)\n",
        "  V_HO2 = VHO2(V_0HO2, 3.131, V_0)\n",
        "  V_g = Vg(V_0RO2, V_0N2, V_HO2, V_0, 3.131)\n",
        "  C_co2 = Cco2(Tg)\n",
        "  C_N2 = CN2(Tg)\n",
        "  C_h2o = Ch2o(Tg)\n",
        "  C_vozd = Cvozd(Tg)\n",
        "  hg_0 = hg0(V_0RO2, C_co2, V_0N2, C_N2, V_HO2, C_h2o, Tg)\n",
        "  hvozd_0 = hvozd0(V_0, C_vozd, Tg)\n",
        "  Hg_0 = Hg0(hg_0, alfa, hvozd_0)\n",
        "  PV_RT = PVRT(V_g, R, Tg)\n",
        "  return (Q_np, V_g, Hg_0, PV_RT)\n",
        "  \n"
      ]
    },
    {
      "cell_type": "code",
      "source": [
        "print(all(3.313, 'Медвежье', 450))"
      ],
      "metadata": {
        "colab": {
          "base_uri": "https://localhost:8080/"
        },
        "id": "zjSuUcBXVZxM",
        "outputId": "c90e67dd-b890-4097-fdca-22cf6cd5f4db"
      },
      "execution_count": 34,
      "outputs": [
        {
          "output_type": "stream",
          "name": "stdout",
          "text": [
            "(356.94904999999994, 0.31300886585657994, 206.14355184679778, 11953.357614203655)\n"
          ]
        }
      ]
    }
  ]
}