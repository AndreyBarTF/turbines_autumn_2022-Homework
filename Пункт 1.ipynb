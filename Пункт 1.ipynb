{
  "nbformat": 4,
  "nbformat_minor": 0,
  "metadata": {
    "colab": {
      "provenance": [],
      "authorship_tag": "ABX9TyOJ4MdUdmQ1nsqypWUGXRqR",
      "include_colab_link": true
    },
    "kernelspec": {
      "name": "python3",
      "display_name": "Python 3"
    },
    "language_info": {
      "name": "python"
    }
  },
  "cells": [
    {
      "cell_type": "markdown",
      "metadata": {
        "id": "view-in-github",
        "colab_type": "text"
      },
      "source": [
        "<a href=\"https://colab.research.google.com/github/AndreyBarTF/turbines_autumn_2022-Homework/blob/Kursach/%D0%9F%D1%83%D0%BD%D0%BA%D1%82%201.ipynb\" target=\"_parent\"><img src=\"https://colab.research.google.com/assets/colab-badge.svg\" alt=\"Open In Colab\"/></a>"
      ]
    },
    {
      "cell_type": "markdown",
      "source": [
        "*   ФИО Барбашин Андрей Алексеевич\n",
        "*   Группа ТФэ-01-20\n",
        "*   Тлеграмм @QwertyAlexx"
      ],
      "metadata": {
        "id": "vvfntGMs_3TC"
      }
    },
    {
      "cell_type": "code",
      "source": [
        "!pip install iapws"
      ],
      "metadata": {
        "colab": {
          "base_uri": "https://localhost:8080/"
        },
        "id": "qwI6FPXPAk6G",
        "outputId": "ef65d186-7981-4362-cd28-e24636dcd4cf"
      },
      "execution_count": 2,
      "outputs": [
        {
          "output_type": "stream",
          "name": "stdout",
          "text": [
            "Looking in indexes: https://pypi.org/simple, https://us-python.pkg.dev/colab-wheels/public/simple/\n",
            "Collecting iapws\n",
            "  Downloading iapws-1.5.3.tar.gz (111 kB)\n",
            "\u001b[2K     \u001b[90m━━━━━━━━━━━━━━━━━━━━━━━━━━━━━━━━━━━━━━━\u001b[0m \u001b[32m111.9/111.9 KB\u001b[0m \u001b[31m5.2 MB/s\u001b[0m eta \u001b[36m0:00:00\u001b[0m\n",
            "\u001b[?25h  Preparing metadata (setup.py) ... \u001b[?25l\u001b[?25hdone\n",
            "Requirement already satisfied: scipy>=1.2 in /usr/local/lib/python3.8/dist-packages (from iapws) (1.10.1)\n",
            "Requirement already satisfied: numpy<1.27.0,>=1.19.5 in /usr/local/lib/python3.8/dist-packages (from scipy>=1.2->iapws) (1.22.4)\n",
            "Building wheels for collected packages: iapws\n",
            "  Building wheel for iapws (setup.py) ... \u001b[?25l\u001b[?25hdone\n",
            "  Created wheel for iapws: filename=iapws-1.5.3-py3-none-any.whl size=114282 sha256=ea161714e1ad401420dbf15a0fd362cf7f0d3246f9a2c6cb82240e68b42e9adc\n",
            "  Stored in directory: /root/.cache/pip/wheels/66/b4/cb/ef55293a897beaad4f10f2fc5d7f9e43bc29170568c52850c2\n",
            "Successfully built iapws\n",
            "Installing collected packages: iapws\n",
            "Successfully installed iapws-1.5.3\n"
          ]
        }
      ]
    },
    {
      "cell_type": "markdown",
      "source": [
        "1. Построить процесс расширения пара в турбине. Определение расходов пара на \n",
        "входе в турбину (G0) и в конденсатор (Gк)."
      ],
      "metadata": {
        "id": "rcvNXnCJDMg8"
      }
    },
    {
      "cell_type": "code",
      "execution_count": 6,
      "metadata": {
        "colab": {
          "base_uri": "https://localhost:8080/"
        },
        "id": "zerA89z0_0cv",
        "outputId": "1b180a8e-ef16-48d8-a195-b6592e5c31f4"
      },
      "outputs": [
        {
          "output_type": "stream",
          "name": "stdout",
          "text": [
            "Массовый расход в турбину на входе 646.008110523921\n",
            "Массовый расход в конденсатор: 432.2683742564051\n"
          ]
        }
      ],
      "source": [
        "import numpy as np\n",
        "import iapws\n",
        "from iapws import IAPWS97 as gas\n",
        "\n",
        "MPa = 10 ** 6\n",
        "kPa = 10 ** 3\n",
        "unit = 1 / MPa\n",
        "to_kelvin = lambda x: x + 273.15 if x else None\n",
        "\n",
        "#Исходные данные\n",
        "#Тип турбины К-800-23,5 ЛМЗ\n",
        "p_0 = 25 * MPa\n",
        "\n",
        "t_0 = 560\n",
        "p_middle = 3.62 * MPa\n",
        "\n",
        "t_middle = 565\n",
        "p_k = 3.5 * kPa\n",
        "\n",
        "t_feed_water = 269\n",
        "electrical_power = 830 * (10 ** 6)\n",
        "z = 9\n",
        "avg_diameter = 0.9 # dр.с. = 0,9 - 1,1\n",
        "rotation_speed = 50 #n\n",
        "H_0 = 105\n",
        "p_feed_water = 1.35 * p_0\n",
        "\n",
        "internal_efficiency = 0.85\n",
        "mechanical_efficiency = 0.994\n",
        "generator_efficiency = 0.99\n",
        "\n",
        "delta_p0 = 0.05 * p_0\n",
        "delta_p_middle = 0.1 * p_middle\n",
        "delta_p_1 = 0.03 * p_middle\n",
        "\n",
        "real_p0 = p_0 - delta_p0\n",
        "real_p1t = p_middle + delta_p_middle\n",
        "real_p_middle = p_middle - delta_p_1\n",
        "\n",
        "_point_0 = gas(P = p_0 * unit, T=to_kelvin(t_0))\n",
        "point_0 = gas(P=real_p0 * unit, h=_point_0.h)\n",
        "point_1t = gas(P=real_p1t * unit, s=_point_0.s)\n",
        "\n",
        "hp_heat_drop = (_point_0.h - point_1t.h) * internal_efficiency\n",
        "h_1 = point_0.h - hp_heat_drop\n",
        "point_1 = gas(P=real_p1t * unit, h=h_1)\n",
        "\n",
        "_point_middle = gas(P=p_middle * unit, T=to_kelvin(t_middle))\n",
        "point_middle = gas(P=real_p_middle * unit, h=_point_middle.h)\n",
        "point_2t = gas(P=p_k * unit, s=_point_middle.s)\n",
        "\n",
        "lp_heat_drop = (_point_middle.h - point_2t.h) * internal_efficiency\n",
        "h_2 = point_middle.h - lp_heat_drop\n",
        "point_2 = gas(P=p_k * unit, h=h_2)\n",
        "\n",
        "efficiency_hp = (_point_0.h - point_1.h) / (_point_0.h - point_1t.h)\n",
        "efficiency_lp = (_point_middle.h - point_2.h) / (_point_middle.h - point_2t.h)\n",
        "efficiency_hp, efficiency_lp\n",
        "\n",
        "point_k_water = gas(P=p_k * unit, x=0)\n",
        "\n",
        "point_feed_water = gas(P=p_feed_water * unit, T=to_kelvin(t_feed_water))\n",
        "\n",
        "numenator_without = point_2.T * (_point_middle.s - point_k_water.s)\n",
        "denumenator_without = (point_0.h - point_1t.h) + (point_middle.h - point_k_water.h)\n",
        "without_part = 1 - (numenator_without / denumenator_without)\n",
        "\n",
        "numenator_infinity = point_2.T * (_point_middle.s - point_feed_water.s)\n",
        "denumenator_infinity = (point_0.h - point_1t.h) + (point_middle.h - point_feed_water.h)\n",
        "infinity_part = 1 - (numenator_infinity / denumenator_infinity)\n",
        "\n",
        "ksi_infinity = 1 - (without_part / infinity_part)\n",
        "\n",
        "coeff = (point_feed_water.T - point_2.T) / (to_kelvin(374.2) - point_2.T)\n",
        "\n",
        "ksi = 0.83 * ksi_infinity\n",
        "\n",
        "eff_num = hp_heat_drop + lp_heat_drop\n",
        "eff_denum = hp_heat_drop + (point_middle.h - point_k_water.h)\n",
        "\n",
        "efficiency = (eff_num / eff_denum) * (1 / (1 - ksi))\n",
        "\n",
        "estimated_heat_drop = efficiency * ((point_0.h - point_feed_water.h) + (point_middle.h - point_1.h))\n",
        "\n",
        "inlet_mass_flow = electrical_power / (estimated_heat_drop * 1000 * mechanical_efficiency * generator_efficiency)\n",
        "\n",
        "condenser_mass_flow = (\n",
        "    electrical_power /\n",
        "    ((point_2.h - point_k_water.h) * 1000 * mechanical_efficiency * generator_efficiency) * ((1 / efficiency) - 1)\n",
        ")\n",
        "\n",
        "print(\"Массовый расход в турбину на входе\", inlet_mass_flow)\n",
        "print(\"Массовый расход в конденсатор:\", condenser_mass_flow)"
      ]
    }
  ]
}